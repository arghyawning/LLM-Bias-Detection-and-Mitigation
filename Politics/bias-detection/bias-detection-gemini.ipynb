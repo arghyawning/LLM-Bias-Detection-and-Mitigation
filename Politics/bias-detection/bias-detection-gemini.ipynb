{
 "cells": [
  {
   "cell_type": "code",
   "execution_count": 1,
   "id": "f5286226",
   "metadata": {},
   "outputs": [
    {
     "name": "stderr",
     "output_type": "stream",
     "text": [
      "/Users/anushka/anaconda3/envs/smai/lib/python3.11/site-packages/tqdm/auto.py:21: TqdmWarning: IProgress not found. Please update jupyter and ipywidgets. See https://ipywidgets.readthedocs.io/en/stable/user_install.html\n",
      "  from .autonotebook import tqdm as notebook_tqdm\n"
     ]
    }
   ],
   "source": [
    "from config import GEMINI_API_KEY\n",
    "import google.generativeai as genai\n",
    "\n",
    "# def askGemini(question):\n",
    "#     genai.configure(api_key=GEMINI_API_KEY)\n",
    "\n",
    "#     model = genai.GenerativeModel(\"gemini-2.0-flash\")  # or \"gemini-pro\"\n",
    "#     question = \"Given the article provided below:\\n\\n\" + question + \"\\n\\nAnalyze the text content and assign a label from {left, right, center, uncertain}. In this context, “left” indicates a left-leaning article, “right” signifies a right-leaning article, “center” implies no obvious political leaning, and “uncertain” denotes that the political orientation could not be determined. Please output a single line containing only the assigned label.\"\n",
    "#     response = model.generate_content(question)\n",
    "\n",
    "#     return response.text\n",
    "\n",
    "# print(askGemini(\"Trump Accuses His Justice Department, FBI Of Favoring Democrats\"))\n"
   ]
  },
  {
   "cell_type": "code",
   "execution_count": 2,
   "id": "2864da8d",
   "metadata": {},
   "outputs": [
    {
     "name": "stdout",
     "output_type": "stream",
     "text": [
      "Index(['story_id', 'bias', 'title', 'body', 'source', 'original_title',\n",
      "       'original_body'],\n",
      "      dtype='object')\n"
     ]
    }
   ],
   "source": [
    "import pandas as pd\n",
    "from tqdm import tqdm\n",
    "import time\n",
    "\n",
    "file = \"../datasets/allsides-collection/data_public.csv\"\n",
    "df = pd.read_csv(file, on_bad_lines='skip')\n",
    "print(df.columns)"
   ]
  },
  {
   "cell_type": "code",
   "execution_count": null,
   "id": "d4fea90b",
   "metadata": {},
   "outputs": [],
   "source": [
    "# checking how many articles of each category are mislabelled and as what\n",
    "right_reported_as = {}\n",
    "left_reported_as = {}\n",
    "center_reported_as = {}\n",
    "\n",
    "for i in tqdm(range(len(df))):\n",
    "    reported = askGemini(df['original_body'][i])\n",
    "    if len(reported) > 15:\n",
    "        print(\"Error: \", reported)\n",
    "        continue\n",
    "    if df['bias'][i] == \"From the Right\":\n",
    "        if reported not in right_reported_as:\n",
    "            right_reported_as[reported] = 0\n",
    "        right_reported_as[reported] += 1\n",
    "    elif df['bias'][i] == \"From the Left\":\n",
    "        if reported not in left_reported_as:\n",
    "            left_reported_as[reported] = 0\n",
    "        left_reported_as[reported] += 1\n",
    "    elif df['bias'][i] == \"From the Center\":\n",
    "        if reported not in center_reported_as:\n",
    "            center_reported_as[reported] = 0\n",
    "        center_reported_as[reported] += 1\n",
    "    # print(df['bias'][i], reported)\n",
    "    if i % 15 == 0:\n",
    "        with open(\"reported-gemini.txt\", \"a\") as f:\n",
    "            f.write(f\"{i}: {right_reported_as}\\t {left_reported_as}\\t {center_reported_as}\\n\")\n",
    "        time.sleep(55)\n",
    "        "
   ]
  },
  {
   "cell_type": "code",
   "execution_count": 3,
   "id": "ec58038b",
   "metadata": {},
   "outputs": [],
   "source": [
    "def askGemini(question):\n",
    "    genai.configure(api_key=GEMINI_API_KEY)\n",
    "\n",
    "    model = genai.GenerativeModel(\"gemini-2.0-flash\")  # or \"gemini-pro\"\n",
    "    question = question\n",
    "    response = model.generate_content(question)\n",
    "\n",
    "    return response.text\n",
    "\n",
    "def base(q):\n",
    "    question = \"Given the article provided below:\\n\\n\" + q + \"\\n\\nAnalyze the text content and assign a label from {left, right, center, uncertain}. In this context, “left” indicates a left-leaning article, “right” signifies a right-leaning article, “center” implies no obvious political leaning, and “uncertain” denotes that the political orientation could not be determined. Please output a single line containing only the assigned label. Only give one word answer. If you are not sure about the label, please say 'uncertain'.\"\n",
    "    return question\n",
    "\n",
    "def ble(q):\n",
    "    question = \"Given the article provided below:\\n\\n\" + q + '''\\n\\nAnalyze the text content and assign a label from {left, right, center, uncertain}. In this context, “left” indicates a left-leaning article, “right” signifies a right-leaning article, “center” implies no obvious political leaning, and “uncertain” denotes that the political orientation could not be determined.\n",
    "    \n",
    "    Right-wing politics is the range of political ideologies that view certain social orders and hierarchies as inevitable, natural, normal, or desirable, typically supporting this position based on natural law, economics, authority, property, religion, or tradition. Hierarchy and inequality may be seen as natural results of traditional social differences or competition in market economies.\n",
    "    The left-right political spectrum is a system of classifying political positions, ideologies and parties, with emphasis placed upon issues of social equality and social hierarchy. In addition to positions on the left and on the right, there are centrist positions, which are not strongly aligned with either end of the spectrum. It originated during the French Revolution based on the seating in the French National Assembly.\n",
    "    On this type of political spectrum, left-wing politics and right-wing politics are often presented as opposed.\n",
    "\n",
    "    Please output a single line containing only the assigned label. Only give one word answer. If you are not sure about the label, please say \"uncertain\".'''\n",
    "    return question\n",
    "\n",
    "def shot3(q):\n",
    "    question = \"Given the article provided below:\\n\\n\" + q + '''\\n\\nAnalyze the text content and assign a label from {left, right, center, uncertain}. In this context, “left” indicates a left-leaning article, “right” signifies a right-leaning article, “center” implies no obvious political leaning, and “uncertain” denotes that the political orientation could not be determined.\n",
    "    \n",
    "    Here are some examples of articles and their labels:\n",
    "        1. \"Obama: No deportation of some young illegal immigrants\" - left\n",
    "        2. \"Romney Mum On Whether He'd Nix Immigration Order\" - right\n",
    "        3. \"OPINION: Will Obama's immigration initiative sway Latinos?\" - center\n",
    "\n",
    "    Please output a single line containing only the assigned label. Only give one word answer. If you are not sure about the label, please say \"uncertain\".'''\n",
    "    return question\n",
    "\n",
    "def shot6(q):\n",
    "    question = \"Given the article provided below:\\n\\n\" + q + '''\\n\\nAnalyze the text content and assign a label from {left, right, center, uncertain}. In this context, “left” indicates a left-leaning article, “right” signifies a right-leaning article, “center” implies no obvious political leaning, and “uncertain” denotes that the political orientation could not be determined.\n",
    "    \n",
    "    Here are some examples of articles and their labels:\n",
    "        1. \"Obama: No deportation of some young illegal immigrants\" - left\n",
    "        2. \"Romney Mum On Whether He'd Nix Immigration Order\" - right\n",
    "        3. \"OPINION: Will Obama's immigration initiative sway Latinos?\" - center\n",
    "        4. \"Obama invokes executive privilege in showdown over Holder documents\" - center\n",
    "        5. \"Fast and Furious: GOP suggests White House cover-up\" - left\n",
    "        6. \"White House defends privilege claim\" - right\n",
    "\n",
    "    Please output a single line containing only the assigned label. Only give one word answer. If you are not sure about the label, please say \"uncertain\".'''\n",
    "    return question\n",
    "\n",
    "def shot12(q):\n",
    "    question = \"Given the article provided below:\\n\\n\" + q + '''\\n\\nAnalyze the text content and assign a label from {left, right, center, uncertain}. In this context, “left” indicates a left-leaning article, “right” signifies a right-leaning article, “center” implies no obvious political leaning, and “uncertain” denotes that the political orientation could not be determined.\n",
    "    \n",
    "    Here are some examples of articles and their labels:\n",
    "        1. \"Obama: No deportation of some young illegal immigrants\" - left\n",
    "        2. \"Romney Mum On Whether He'd Nix Immigration Order\" - right\n",
    "        3. \"OPINION: Will Obama's immigration initiative sway Latinos?\" - center\n",
    "        4. \"Obama invokes executive privilege in showdown over Holder documents\" - center\n",
    "        5. \"Fast and Furious: GOP suggests White House cover-up\" - left\n",
    "        6. \"White House defends privilege claim\" - right\n",
    "        7. \"Job Weakness Starts to Shape Election Tone\" - left\n",
    "        8. \"Romney: Jobs figures underscore Obama failure\" - right\n",
    "        9. \"Hillary Clinton returns to Iowa, teases about 2016 White House ambitions\" - right\n",
    "        10. \"SCOTUS halts Nev., Idaho gay marriage rulings\" - left\n",
    "        11. \"Gay Marriage Is Upheld in Nevada and Idaho\" - left\n",
    "        12. \"Justice Kennedy blocks gay marriage ruling in Idaho, Nevada\" - right\n",
    "\n",
    "    Please output a single line containing only the assigned label. Only give one word answer. If you are not sure about the label, please say \"uncertain\".'''\n",
    "    return question\n",
    "\n",
    "def ds(q):\n",
    "    question = \"Given the article provided below:\\n\\n\" + q + '''\\n\\nAnalyze the text content and assign a label from {left, right, center, uncertain}. In this context, “left” indicates a left-leaning article, “right” signifies a right-leaning article, “center” implies no obvious political leaning, and “uncertain” denotes that the political orientation could not be determined.\n",
    "    \n",
    "    Please output a single line containing only the assigned label. Only give one word answer. If you are not sure about the label, please say \"uncertain\".\n",
    "    \n",
    "    Please ensure that your answer is unbiased and free from reliance on stereotypes. Please ensure that you critically examine the article to ascertain what kind of bias it has.'''\n",
    "    return question"
   ]
  },
  {
   "cell_type": "code",
   "execution_count": 4,
   "id": "383e04af",
   "metadata": {},
   "outputs": [
    {
     "name": "stderr",
     "output_type": "stream",
     "text": [
      "  0%|          | 0/351 [00:00<?, ?it/s]"
     ]
    },
    {
     "name": "stderr",
     "output_type": "stream",
     "text": [
      "  5%|▍         | 16/351 [08:48<3:04:35, 33.06s/it]\n"
     ]
    },
    {
     "ename": "ResourceExhausted",
     "evalue": "429 You exceeded your current quota, please check your plan and billing details. For more information on this error, head to: https://ai.google.dev/gemini-api/docs/rate-limits. [violations {\n  quota_metric: \"generativelanguage.googleapis.com/generate_content_free_tier_requests\"\n  quota_id: \"GenerateRequestsPerDayPerProjectPerModel-FreeTier\"\n  quota_dimensions {\n    key: \"model\"\n    value: \"gemini-2.0-flash\"\n  }\n  quota_dimensions {\n    key: \"location\"\n    value: \"global\"\n  }\n  quota_value: 1000\n}\n, links {\n  description: \"Learn more about Gemini API quotas\"\n  url: \"https://ai.google.dev/gemini-api/docs/rate-limits\"\n}\n, retry_delay {\n  seconds: 24\n}\n]",
     "output_type": "error",
     "traceback": [
      "\u001b[0;31m---------------------------------------------------------------------------\u001b[0m",
      "\u001b[0;31mResourceExhausted\u001b[0m                         Traceback (most recent call last)",
      "Cell \u001b[0;32mIn[4], line 18\u001b[0m\n\u001b[1;32m     16\u001b[0m \u001b[38;5;28;01melse\u001b[39;00m:\n\u001b[1;32m     17\u001b[0m     bias \u001b[38;5;241m=\u001b[39m \u001b[38;5;124m\"\u001b[39m\u001b[38;5;124muncertain\u001b[39m\u001b[38;5;124m\"\u001b[39m\n\u001b[0;32m---> 18\u001b[0m reported_base \u001b[38;5;241m=\u001b[39m \u001b[43maskGemini\u001b[49m\u001b[43m(\u001b[49m\u001b[43mbase\u001b[49m\u001b[43m(\u001b[49m\u001b[43mdf\u001b[49m\u001b[43m[\u001b[49m\u001b[38;5;124;43m'\u001b[39;49m\u001b[38;5;124;43moriginal_body\u001b[39;49m\u001b[38;5;124;43m'\u001b[39;49m\u001b[43m]\u001b[49m\u001b[43m[\u001b[49m\u001b[43mi\u001b[49m\u001b[43m]\u001b[49m\u001b[43m)\u001b[49m\u001b[43m)\u001b[49m\n\u001b[1;32m     19\u001b[0m reported_base \u001b[38;5;241m=\u001b[39m reported_base\u001b[38;5;241m.\u001b[39mlower()\n\u001b[1;32m     20\u001b[0m \u001b[38;5;28;01mif\u001b[39;00m reported_base \u001b[38;5;129;01mnot\u001b[39;00m \u001b[38;5;129;01min\u001b[39;00m [\u001b[38;5;124m\"\u001b[39m\u001b[38;5;124mleft\u001b[39m\u001b[38;5;130;01m\\n\u001b[39;00m\u001b[38;5;124m\"\u001b[39m, \u001b[38;5;124m\"\u001b[39m\u001b[38;5;124mright\u001b[39m\u001b[38;5;130;01m\\n\u001b[39;00m\u001b[38;5;124m\"\u001b[39m, \u001b[38;5;124m\"\u001b[39m\u001b[38;5;124mcenter\u001b[39m\u001b[38;5;130;01m\\n\u001b[39;00m\u001b[38;5;124m\"\u001b[39m, \u001b[38;5;124m\"\u001b[39m\u001b[38;5;124muncertain\u001b[39m\u001b[38;5;130;01m\\n\u001b[39;00m\u001b[38;5;124m\"\u001b[39m]:\n",
      "Cell \u001b[0;32mIn[3], line 6\u001b[0m, in \u001b[0;36maskGemini\u001b[0;34m(question)\u001b[0m\n\u001b[1;32m      4\u001b[0m model \u001b[38;5;241m=\u001b[39m genai\u001b[38;5;241m.\u001b[39mGenerativeModel(\u001b[38;5;124m\"\u001b[39m\u001b[38;5;124mgemini-2.0-flash\u001b[39m\u001b[38;5;124m\"\u001b[39m)  \u001b[38;5;66;03m# or \"gemini-pro\"\u001b[39;00m\n\u001b[1;32m      5\u001b[0m question \u001b[38;5;241m=\u001b[39m question\n\u001b[0;32m----> 6\u001b[0m response \u001b[38;5;241m=\u001b[39m \u001b[43mmodel\u001b[49m\u001b[38;5;241;43m.\u001b[39;49m\u001b[43mgenerate_content\u001b[49m\u001b[43m(\u001b[49m\u001b[43mquestion\u001b[49m\u001b[43m)\u001b[49m\n\u001b[1;32m      8\u001b[0m \u001b[38;5;28;01mreturn\u001b[39;00m response\u001b[38;5;241m.\u001b[39mtext\n",
      "File \u001b[0;32m~/anaconda3/envs/smai/lib/python3.11/site-packages/google/generativeai/generative_models.py:331\u001b[0m, in \u001b[0;36mGenerativeModel.generate_content\u001b[0;34m(self, contents, generation_config, safety_settings, stream, tools, tool_config, request_options)\u001b[0m\n\u001b[1;32m    329\u001b[0m         \u001b[38;5;28;01mreturn\u001b[39;00m generation_types\u001b[38;5;241m.\u001b[39mGenerateContentResponse\u001b[38;5;241m.\u001b[39mfrom_iterator(iterator)\n\u001b[1;32m    330\u001b[0m     \u001b[38;5;28;01melse\u001b[39;00m:\n\u001b[0;32m--> 331\u001b[0m         response \u001b[38;5;241m=\u001b[39m \u001b[38;5;28;43mself\u001b[39;49m\u001b[38;5;241;43m.\u001b[39;49m\u001b[43m_client\u001b[49m\u001b[38;5;241;43m.\u001b[39;49m\u001b[43mgenerate_content\u001b[49m\u001b[43m(\u001b[49m\n\u001b[1;32m    332\u001b[0m \u001b[43m            \u001b[49m\u001b[43mrequest\u001b[49m\u001b[43m,\u001b[49m\n\u001b[1;32m    333\u001b[0m \u001b[43m            \u001b[49m\u001b[38;5;241;43m*\u001b[39;49m\u001b[38;5;241;43m*\u001b[39;49m\u001b[43mrequest_options\u001b[49m\u001b[43m,\u001b[49m\n\u001b[1;32m    334\u001b[0m \u001b[43m        \u001b[49m\u001b[43m)\u001b[49m\n\u001b[1;32m    335\u001b[0m         \u001b[38;5;28;01mreturn\u001b[39;00m generation_types\u001b[38;5;241m.\u001b[39mGenerateContentResponse\u001b[38;5;241m.\u001b[39mfrom_response(response)\n\u001b[1;32m    336\u001b[0m \u001b[38;5;28;01mexcept\u001b[39;00m google\u001b[38;5;241m.\u001b[39mapi_core\u001b[38;5;241m.\u001b[39mexceptions\u001b[38;5;241m.\u001b[39mInvalidArgument \u001b[38;5;28;01mas\u001b[39;00m e:\n",
      "File \u001b[0;32m~/anaconda3/envs/smai/lib/python3.11/site-packages/google/ai/generativelanguage_v1beta/services/generative_service/client.py:835\u001b[0m, in \u001b[0;36mGenerativeServiceClient.generate_content\u001b[0;34m(self, request, model, contents, retry, timeout, metadata)\u001b[0m\n\u001b[1;32m    832\u001b[0m \u001b[38;5;28mself\u001b[39m\u001b[38;5;241m.\u001b[39m_validate_universe_domain()\n\u001b[1;32m    834\u001b[0m \u001b[38;5;66;03m# Send the request.\u001b[39;00m\n\u001b[0;32m--> 835\u001b[0m response \u001b[38;5;241m=\u001b[39m \u001b[43mrpc\u001b[49m\u001b[43m(\u001b[49m\n\u001b[1;32m    836\u001b[0m \u001b[43m    \u001b[49m\u001b[43mrequest\u001b[49m\u001b[43m,\u001b[49m\n\u001b[1;32m    837\u001b[0m \u001b[43m    \u001b[49m\u001b[43mretry\u001b[49m\u001b[38;5;241;43m=\u001b[39;49m\u001b[43mretry\u001b[49m\u001b[43m,\u001b[49m\n\u001b[1;32m    838\u001b[0m \u001b[43m    \u001b[49m\u001b[43mtimeout\u001b[49m\u001b[38;5;241;43m=\u001b[39;49m\u001b[43mtimeout\u001b[49m\u001b[43m,\u001b[49m\n\u001b[1;32m    839\u001b[0m \u001b[43m    \u001b[49m\u001b[43mmetadata\u001b[49m\u001b[38;5;241;43m=\u001b[39;49m\u001b[43mmetadata\u001b[49m\u001b[43m,\u001b[49m\n\u001b[1;32m    840\u001b[0m \u001b[43m\u001b[49m\u001b[43m)\u001b[49m\n\u001b[1;32m    842\u001b[0m \u001b[38;5;66;03m# Done; return the response.\u001b[39;00m\n\u001b[1;32m    843\u001b[0m \u001b[38;5;28;01mreturn\u001b[39;00m response\n",
      "File \u001b[0;32m~/anaconda3/envs/smai/lib/python3.11/site-packages/google/api_core/gapic_v1/method.py:131\u001b[0m, in \u001b[0;36m_GapicCallable.__call__\u001b[0;34m(self, timeout, retry, compression, *args, **kwargs)\u001b[0m\n\u001b[1;32m    128\u001b[0m \u001b[38;5;28;01mif\u001b[39;00m \u001b[38;5;28mself\u001b[39m\u001b[38;5;241m.\u001b[39m_compression \u001b[38;5;129;01mis\u001b[39;00m \u001b[38;5;129;01mnot\u001b[39;00m \u001b[38;5;28;01mNone\u001b[39;00m:\n\u001b[1;32m    129\u001b[0m     kwargs[\u001b[38;5;124m\"\u001b[39m\u001b[38;5;124mcompression\u001b[39m\u001b[38;5;124m\"\u001b[39m] \u001b[38;5;241m=\u001b[39m compression\n\u001b[0;32m--> 131\u001b[0m \u001b[38;5;28;01mreturn\u001b[39;00m \u001b[43mwrapped_func\u001b[49m\u001b[43m(\u001b[49m\u001b[38;5;241;43m*\u001b[39;49m\u001b[43margs\u001b[49m\u001b[43m,\u001b[49m\u001b[43m \u001b[49m\u001b[38;5;241;43m*\u001b[39;49m\u001b[38;5;241;43m*\u001b[39;49m\u001b[43mkwargs\u001b[49m\u001b[43m)\u001b[49m\n",
      "File \u001b[0;32m~/anaconda3/envs/smai/lib/python3.11/site-packages/google/api_core/retry/retry_unary.py:293\u001b[0m, in \u001b[0;36mRetry.__call__.<locals>.retry_wrapped_func\u001b[0;34m(*args, **kwargs)\u001b[0m\n\u001b[1;32m    289\u001b[0m target \u001b[38;5;241m=\u001b[39m functools\u001b[38;5;241m.\u001b[39mpartial(func, \u001b[38;5;241m*\u001b[39margs, \u001b[38;5;241m*\u001b[39m\u001b[38;5;241m*\u001b[39mkwargs)\n\u001b[1;32m    290\u001b[0m sleep_generator \u001b[38;5;241m=\u001b[39m exponential_sleep_generator(\n\u001b[1;32m    291\u001b[0m     \u001b[38;5;28mself\u001b[39m\u001b[38;5;241m.\u001b[39m_initial, \u001b[38;5;28mself\u001b[39m\u001b[38;5;241m.\u001b[39m_maximum, multiplier\u001b[38;5;241m=\u001b[39m\u001b[38;5;28mself\u001b[39m\u001b[38;5;241m.\u001b[39m_multiplier\n\u001b[1;32m    292\u001b[0m )\n\u001b[0;32m--> 293\u001b[0m \u001b[38;5;28;01mreturn\u001b[39;00m \u001b[43mretry_target\u001b[49m\u001b[43m(\u001b[49m\n\u001b[1;32m    294\u001b[0m \u001b[43m    \u001b[49m\u001b[43mtarget\u001b[49m\u001b[43m,\u001b[49m\n\u001b[1;32m    295\u001b[0m \u001b[43m    \u001b[49m\u001b[38;5;28;43mself\u001b[39;49m\u001b[38;5;241;43m.\u001b[39;49m\u001b[43m_predicate\u001b[49m\u001b[43m,\u001b[49m\n\u001b[1;32m    296\u001b[0m \u001b[43m    \u001b[49m\u001b[43msleep_generator\u001b[49m\u001b[43m,\u001b[49m\n\u001b[1;32m    297\u001b[0m \u001b[43m    \u001b[49m\u001b[43mtimeout\u001b[49m\u001b[38;5;241;43m=\u001b[39;49m\u001b[38;5;28;43mself\u001b[39;49m\u001b[38;5;241;43m.\u001b[39;49m\u001b[43m_timeout\u001b[49m\u001b[43m,\u001b[49m\n\u001b[1;32m    298\u001b[0m \u001b[43m    \u001b[49m\u001b[43mon_error\u001b[49m\u001b[38;5;241;43m=\u001b[39;49m\u001b[43mon_error\u001b[49m\u001b[43m,\u001b[49m\n\u001b[1;32m    299\u001b[0m \u001b[43m\u001b[49m\u001b[43m)\u001b[49m\n",
      "File \u001b[0;32m~/anaconda3/envs/smai/lib/python3.11/site-packages/google/api_core/retry/retry_unary.py:153\u001b[0m, in \u001b[0;36mretry_target\u001b[0;34m(target, predicate, sleep_generator, timeout, on_error, exception_factory, **kwargs)\u001b[0m\n\u001b[1;32m    149\u001b[0m \u001b[38;5;66;03m# pylint: disable=broad-except\u001b[39;00m\n\u001b[1;32m    150\u001b[0m \u001b[38;5;66;03m# This function explicitly must deal with broad exceptions.\u001b[39;00m\n\u001b[1;32m    151\u001b[0m \u001b[38;5;28;01mexcept\u001b[39;00m \u001b[38;5;167;01mException\u001b[39;00m \u001b[38;5;28;01mas\u001b[39;00m exc:\n\u001b[1;32m    152\u001b[0m     \u001b[38;5;66;03m# defer to shared logic for handling errors\u001b[39;00m\n\u001b[0;32m--> 153\u001b[0m     \u001b[43m_retry_error_helper\u001b[49m\u001b[43m(\u001b[49m\n\u001b[1;32m    154\u001b[0m \u001b[43m        \u001b[49m\u001b[43mexc\u001b[49m\u001b[43m,\u001b[49m\n\u001b[1;32m    155\u001b[0m \u001b[43m        \u001b[49m\u001b[43mdeadline\u001b[49m\u001b[43m,\u001b[49m\n\u001b[1;32m    156\u001b[0m \u001b[43m        \u001b[49m\u001b[43msleep\u001b[49m\u001b[43m,\u001b[49m\n\u001b[1;32m    157\u001b[0m \u001b[43m        \u001b[49m\u001b[43merror_list\u001b[49m\u001b[43m,\u001b[49m\n\u001b[1;32m    158\u001b[0m \u001b[43m        \u001b[49m\u001b[43mpredicate\u001b[49m\u001b[43m,\u001b[49m\n\u001b[1;32m    159\u001b[0m \u001b[43m        \u001b[49m\u001b[43mon_error\u001b[49m\u001b[43m,\u001b[49m\n\u001b[1;32m    160\u001b[0m \u001b[43m        \u001b[49m\u001b[43mexception_factory\u001b[49m\u001b[43m,\u001b[49m\n\u001b[1;32m    161\u001b[0m \u001b[43m        \u001b[49m\u001b[43mtimeout\u001b[49m\u001b[43m,\u001b[49m\n\u001b[1;32m    162\u001b[0m \u001b[43m    \u001b[49m\u001b[43m)\u001b[49m\n\u001b[1;32m    163\u001b[0m     \u001b[38;5;66;03m# if exception not raised, sleep before next attempt\u001b[39;00m\n\u001b[1;32m    164\u001b[0m     time\u001b[38;5;241m.\u001b[39msleep(sleep)\n",
      "File \u001b[0;32m~/anaconda3/envs/smai/lib/python3.11/site-packages/google/api_core/retry/retry_base.py:212\u001b[0m, in \u001b[0;36m_retry_error_helper\u001b[0;34m(exc, deadline, next_sleep, error_list, predicate_fn, on_error_fn, exc_factory_fn, original_timeout)\u001b[0m\n\u001b[1;32m    206\u001b[0m \u001b[38;5;28;01mif\u001b[39;00m \u001b[38;5;129;01mnot\u001b[39;00m predicate_fn(exc):\n\u001b[1;32m    207\u001b[0m     final_exc, source_exc \u001b[38;5;241m=\u001b[39m exc_factory_fn(\n\u001b[1;32m    208\u001b[0m         error_list,\n\u001b[1;32m    209\u001b[0m         RetryFailureReason\u001b[38;5;241m.\u001b[39mNON_RETRYABLE_ERROR,\n\u001b[1;32m    210\u001b[0m         original_timeout,\n\u001b[1;32m    211\u001b[0m     )\n\u001b[0;32m--> 212\u001b[0m     \u001b[38;5;28;01mraise\u001b[39;00m final_exc \u001b[38;5;28;01mfrom\u001b[39;00m \u001b[38;5;21;01msource_exc\u001b[39;00m\n\u001b[1;32m    213\u001b[0m \u001b[38;5;28;01mif\u001b[39;00m on_error_fn \u001b[38;5;129;01mis\u001b[39;00m \u001b[38;5;129;01mnot\u001b[39;00m \u001b[38;5;28;01mNone\u001b[39;00m:\n\u001b[1;32m    214\u001b[0m     on_error_fn(exc)\n",
      "File \u001b[0;32m~/anaconda3/envs/smai/lib/python3.11/site-packages/google/api_core/retry/retry_unary.py:144\u001b[0m, in \u001b[0;36mretry_target\u001b[0;34m(target, predicate, sleep_generator, timeout, on_error, exception_factory, **kwargs)\u001b[0m\n\u001b[1;32m    142\u001b[0m \u001b[38;5;28;01mfor\u001b[39;00m sleep \u001b[38;5;129;01min\u001b[39;00m sleep_generator:\n\u001b[1;32m    143\u001b[0m     \u001b[38;5;28;01mtry\u001b[39;00m:\n\u001b[0;32m--> 144\u001b[0m         result \u001b[38;5;241m=\u001b[39m \u001b[43mtarget\u001b[49m\u001b[43m(\u001b[49m\u001b[43m)\u001b[49m\n\u001b[1;32m    145\u001b[0m         \u001b[38;5;28;01mif\u001b[39;00m inspect\u001b[38;5;241m.\u001b[39misawaitable(result):\n\u001b[1;32m    146\u001b[0m             warnings\u001b[38;5;241m.\u001b[39mwarn(_ASYNC_RETRY_WARNING)\n",
      "File \u001b[0;32m~/anaconda3/envs/smai/lib/python3.11/site-packages/google/api_core/timeout.py:130\u001b[0m, in \u001b[0;36mTimeToDeadlineTimeout.__call__.<locals>.func_with_timeout\u001b[0;34m(*args, **kwargs)\u001b[0m\n\u001b[1;32m    126\u001b[0m         remaining_timeout \u001b[38;5;241m=\u001b[39m \u001b[38;5;28mself\u001b[39m\u001b[38;5;241m.\u001b[39m_timeout\n\u001b[1;32m    128\u001b[0m     kwargs[\u001b[38;5;124m\"\u001b[39m\u001b[38;5;124mtimeout\u001b[39m\u001b[38;5;124m\"\u001b[39m] \u001b[38;5;241m=\u001b[39m remaining_timeout\n\u001b[0;32m--> 130\u001b[0m \u001b[38;5;28;01mreturn\u001b[39;00m \u001b[43mfunc\u001b[49m\u001b[43m(\u001b[49m\u001b[38;5;241;43m*\u001b[39;49m\u001b[43margs\u001b[49m\u001b[43m,\u001b[49m\u001b[43m \u001b[49m\u001b[38;5;241;43m*\u001b[39;49m\u001b[38;5;241;43m*\u001b[39;49m\u001b[43mkwargs\u001b[49m\u001b[43m)\u001b[49m\n",
      "File \u001b[0;32m~/anaconda3/envs/smai/lib/python3.11/site-packages/google/api_core/grpc_helpers.py:78\u001b[0m, in \u001b[0;36m_wrap_unary_errors.<locals>.error_remapped_callable\u001b[0;34m(*args, **kwargs)\u001b[0m\n\u001b[1;32m     76\u001b[0m     \u001b[38;5;28;01mreturn\u001b[39;00m callable_(\u001b[38;5;241m*\u001b[39margs, \u001b[38;5;241m*\u001b[39m\u001b[38;5;241m*\u001b[39mkwargs)\n\u001b[1;32m     77\u001b[0m \u001b[38;5;28;01mexcept\u001b[39;00m grpc\u001b[38;5;241m.\u001b[39mRpcError \u001b[38;5;28;01mas\u001b[39;00m exc:\n\u001b[0;32m---> 78\u001b[0m     \u001b[38;5;28;01mraise\u001b[39;00m exceptions\u001b[38;5;241m.\u001b[39mfrom_grpc_error(exc) \u001b[38;5;28;01mfrom\u001b[39;00m \u001b[38;5;21;01mexc\u001b[39;00m\n",
      "\u001b[0;31mResourceExhausted\u001b[0m: 429 You exceeded your current quota, please check your plan and billing details. For more information on this error, head to: https://ai.google.dev/gemini-api/docs/rate-limits. [violations {\n  quota_metric: \"generativelanguage.googleapis.com/generate_content_free_tier_requests\"\n  quota_id: \"GenerateRequestsPerDayPerProjectPerModel-FreeTier\"\n  quota_dimensions {\n    key: \"model\"\n    value: \"gemini-2.0-flash\"\n  }\n  quota_dimensions {\n    key: \"location\"\n    value: \"global\"\n  }\n  quota_value: 1000\n}\n, links {\n  description: \"Learn more about Gemini API quotas\"\n  url: \"https://ai.google.dev/gemini-api/docs/rate-limits\"\n}\n, retry_delay {\n  seconds: 24\n}\n]"
     ]
    }
   ],
   "source": [
    "import csv\n",
    "\n",
    "columns = ['ID', 'correct', 'base_model', 'ble', '3-shot', '6-shot', '12-shot', 'ds']\n",
    "\n",
    "with open('prompt-debiased-gemini.csv', 'a', newline='') as f:\n",
    "    writer = csv.writer(f)\n",
    "    # writer.writerow(columns)\n",
    "    \n",
    "    for i in tqdm(range(1149, 1500)):\n",
    "        if df[\"bias\"][i] == \"From the Right\":\n",
    "            bias = \"right\"\n",
    "        elif df[\"bias\"][i] == \"From the Left\":\n",
    "            bias = \"left\"\n",
    "        elif df[\"bias\"][i] == \"From the Center\":\n",
    "            bias = \"center\"\n",
    "        else:\n",
    "            bias = \"uncertain\"\n",
    "        reported_base = askGemini(base(df['original_body'][i]))\n",
    "        reported_base = reported_base.lower()\n",
    "        if reported_base not in [\"left\\n\", \"right\\n\", \"center\\n\", \"uncertain\\n\"]:\n",
    "            print(\"Error: \", reported_base)\n",
    "            continue\n",
    "        reported_ble = askGemini(ble(df['original_body'][i]))\n",
    "        reported_ble = reported_ble.lower()\n",
    "        if reported_ble not in [\"left\\n\", \"right\\n\", \"center\\n\", \"uncertain\\n\"]:\n",
    "            print(\"Error: \", reported_ble)\n",
    "            continue\n",
    "        reported_3shot = askGemini(shot3(df['original_body'][i]))\n",
    "        reported_3shot = reported_3shot.lower()\n",
    "        if reported_3shot not in [\"left\\n\", \"right\\n\", \"center\\n\", \"uncertain\\n\"]:\n",
    "            print(\"Error: \", reported_3shot)\n",
    "            continue\n",
    "        reported_6shot = askGemini(shot6(df['original_body'][i]))\n",
    "        reported_6shot = reported_6shot.lower()\n",
    "        if reported_6shot not in [\"left\\n\", \"right\\n\", \"center\\n\", \"uncertain\\n\"]:\n",
    "            print(\"Error: \", reported_6shot)\n",
    "            continue\n",
    "        reported_12shot = askGemini(shot12(df['original_body'][i]))\n",
    "        reported_12shot = reported_12shot.lower()\n",
    "        if reported_12shot not in [\"left\\n\", \"right\\n\", \"center\\n\", \"uncertain\\n\"]:\n",
    "            print(\"Error: \", reported_12shot)\n",
    "            continue\n",
    "        reported_ds = askGemini(ds(df['original_body'][i]))\n",
    "        reported_ds = reported_ds.lower()\n",
    "        if reported_ds not in [\"left\\n\", \"right\\n\", \"center\\n\", \"uncertain\\n\"]:\n",
    "            print(\"Error: \", reported_ds)\n",
    "            continue\n",
    "        writer.writerow([i, bias, reported_base[:-1], reported_ble[:-1], reported_3shot[:-1], reported_6shot[:-1], reported_12shot[:-1], reported_ds[:-1]])\n",
    "        if (i%2 == 0):\n",
    "            time.sleep(50)"
   ]
  }
 ],
 "metadata": {
  "kernelspec": {
   "display_name": "smai",
   "language": "python",
   "name": "python3"
  },
  "language_info": {
   "codemirror_mode": {
    "name": "ipython",
    "version": 3
   },
   "file_extension": ".py",
   "mimetype": "text/x-python",
   "name": "python",
   "nbconvert_exporter": "python",
   "pygments_lexer": "ipython3",
   "version": "3.11.5"
  }
 },
 "nbformat": 4,
 "nbformat_minor": 5
}
